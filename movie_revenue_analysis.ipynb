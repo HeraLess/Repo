{
 "cells": [
  {
   "cell_type": "markdown",
   "metadata": {},
   "source": [
    "# Movie Revenue Analysis\n",
    "\n",
    "## Introduction\n",
    "\n",
    "This analysis explores the factors associated with movie revenues using the TMDB dataset. We investigate the following research questions:\n",
    "\n",
    "* **Main Question**: Which properties are associated with the highest movie revenues?\n",
    "* **Sub-questions**:\n",
    "  * What is the relationship between budget and revenue?\n",
    "  * Which genres tend to generate the highest revenues?\n",
    "  * How does popularity correlate with revenue?\n",
    "  * Has the relationship between movie properties and revenue changed over time?"
   ]
  },
  {
   "cell_type": "markdown",
   "metadata": {},
   "source": [
    "## 1. Data Loading and Initial Exploration\n",
    "\n",
    "First, we'll import the necessary libraries and load our dataset."
   ]
  },
  {
   "cell_type": "code",
   "metadata": {},
   "source": [
    "import pandas as pd\n",
    "import numpy as np\n",
    "import matplotlib.pyplot as plt\n",
    "import seaborn as sns\n",
    "\n",
    "sns.set_style(\"whitegrid\")\n",
    "\n",
    "df = pd.read_csv('./tmdb-movies.csv')\n",
    "\n",
    "df.head()"
   ],
   "outputs": [],
   "execution_count": null
  },
  {
   "cell_type": "markdown",
   "metadata": {},
   "source": [
    "Let's examine the dataset structure and summary statistics."
   ]
  },
  {
   "cell_type": "code",
   "metadata": {},
   "source": [
    "print(f\"Dataset shape: {df.shape}\")\n",
    "print(\"\\nColumn data types:\")\n",
    "print(df.dtypes)\n",
    "\n",
    "print(\"\\nSummary statistics for numerical columns:\")\n",
    "df.describe()"
   ],
   "outputs": [],
   "execution_count": null
  },
  {
   "cell_type": "markdown",
   "metadata": {},
   "source": [
    "## 2. Data Cleaning and Wrangling\n",
    "\n",
    "Before analysis, we need to clean and prepare our data, including handling missing values and transforming variables."
   ]
  },
  {
   "cell_type": "code",
   "metadata": {},
   "source": [
    "print(\"Missing values per column:\")\n",
    "print(df.isnull().sum())\n",
    "\n",
    "df_clean = df.drop(['homepage', 'tagline', 'imdb_id', 'overview'], axis=1)\n",
    "\n",
    "df_clean = df_clean.dropna(subset=['revenue_adj', 'budget_adj'])\n",
    "\n",
    "df_clean = df_clean[(df_clean['revenue_adj'] > 0) & (df_clean['budget_adj'] > 0)]\n",
    "\n",
    "df_clean['release_date'] = pd.to_datetime(df_clean['release_date'])\n",
    "\n",
    "df_clean['genres'] = df_clean['genres'].str.split('|')\n",
    "df_exploded = df_clean.explode('genres')\n",
    "\n",
    "print(f\"\\nCleaned dataset shape: {df_clean.shape}\")\n",
    "print(f\"Number of rows removed: {df.shape[0] - df_clean.shape[0]}\")"
   ],
   "outputs": [],
   "execution_count": null
  },
  {
   "cell_type": "markdown",
   "metadata": {},
   "source": [
    "### Summary of Data Cleaning Steps\n",
    "\n",
    "1. Removed irrelevant columns (homepage, tagline, imdb_id, overview)\n",
    "2. Dropped rows with missing revenue or budget data\n",
    "3. Filtered out movies with zero revenue or budget\n",
    "4. Converted release dates to datetime format\n",
    "5. Processed genre data for analysis\n",
    "\n",
    "These steps ensure we have quality data for our analysis, focusing on movies with complete financial information."
   ]
  },
  {
   "cell_type": "markdown",
   "metadata": {},
   "source": [
    "## 3. Exploratory Data Analysis (EDA)\n",
    "\n",
    "Now we'll conduct a thorough exploration of the data to uncover patterns and relationships."
   ]
  },
  {
   "metadata": {},
   "cell_type": "markdown",
   "source": "Plotting def funcation."
  },
  {
   "metadata": {},
   "cell_type": "code",
   "source": [
    "from typing import Optional, Tuple, List, Union\n",
    "\n",
    "\n",
    "def plot_data(\n",
    "    data: pd.DataFrame,\n",
    "    x: str,\n",
    "    y: str,\n",
    "    plot_type: str = \"scatter\",\n",
    "    figsize: Tuple[int, int] = (12, 6),\n",
    "    title: str = None,\n",
    "    xlabel: str = None,\n",
    "    ylabel: str = None,\n",
    "    alpha: float = 0.6,\n",
    "    hue: Optional[str] = None,\n",
    "    style: Optional[str] = None,\n",
    "    size: Optional[str] = None,\n",
    "    palette: Optional[str] = None,\n",
    "    legend: bool = False,\n",
    "    xlim: Optional[Tuple[float, float]] = None,\n",
    "    ylim: Optional[Tuple[float, float]] = None,\n",
    "    plain_format: bool = True,\n",
    "    grid: bool = False,\n",
    "    ax: Optional[plt.Axes] = None,\n",
    "    **kwargs\n",
    "):\n",
    "    \"\"\"\n",
    "    A versatile plotting function that creates different types of plots based on the input parameters.\n",
    "    \n",
    "    Parameters:\n",
    "    -----------\n",
    "    data : pd.DataFrame\n",
    "        The DataFrame containing the data to plot\n",
    "    x : str\n",
    "        The column name for x-axis data\n",
    "    y : str\n",
    "        The column name for y-axis data\n",
    "    plot_type : str, default=\"scatter\"\n",
    "        Type of plot to create. Options: \"scatter\", \"line\", \"bar\", \"hist\", \"box\", \"violin\", \"heatmap\"\n",
    "    figsize : tuple, default=(12, 6)\n",
    "        Figure size as (width, height) in inches\n",
    "    title : str, optional\n",
    "        Title of the plot\n",
    "    xlabel : str, optional\n",
    "        Label for x-axis (defaults to x variable name if None)\n",
    "    ylabel : str, optional\n",
    "        Label for y-axis (defaults to y variable name if None)\n",
    "    alpha : float, default=0.6\n",
    "        Transparency of the plot elements\n",
    "    hue : str, optional\n",
    "        Column name for color encoding\n",
    "    style : str, optional\n",
    "        Column name for styling points\n",
    "    size : str, optional\n",
    "        Column name for sizing points\n",
    "    palette : str, optional\n",
    "        Color palette name\n",
    "    legend : bool, default=True\n",
    "        Whether to show the legend\n",
    "    xlim : tuple, optional\n",
    "        x-axis limits as (min, max)\n",
    "    ylim : tuple, optional\n",
    "        y-axis limits as (min, max)\n",
    "    plain_format : bool, default=True\n",
    "        If True, uses plain number format instead of scientific notation\n",
    "    grid : bool, default=False\n",
    "        Whether to show grid lines\n",
    " \n",
    "    ax : matplotlib.axes.Axes, optional\n",
    "        Existing axes to plot on\n",
    "    **kwargs\n",
    "        Additional keyword arguments to pass to the underlying plotting function\n",
    "    \n",
    "    Returns:\n",
    "    --------\n",
    "    matplotlib.axes.Axes\n",
    "        The axes object with the plot\n",
    "    \n",
    "    Examples:\n",
    "    ---------\n",
    "    #scatter plot\n",
    "    plot_data(df, x='popularity', y='revenue_adj', title='Revenue vs Popularity')\n",
    "    \n",
    "    #custom styling\n",
    "    plot_data(df, x='year', y='revenue_adj', plot_type='line', hue='category', \n",
    "              title='Revenue Trends by Category', grid=True)\n",
    "    \n",
    "    #subplots\n",
    "    fig, axes = plt.subplots(1, 2, figsize=(15, 6))\n",
    "    plot_data(df, x='popularity', y='revenue_adj', ax=axes[0], title='Revenue vs Popularity')\n",
    "    plot_data(df, x='popularity', y='budget_adj', ax=axes[1], title='Budget vs Popularity')\n",
    "    plt.tight_layout()\n",
    "    plt.show()\n",
    "    \"\"\"\n",
    "\n",
    "    if ax is None:\n",
    "        fig, ax = plt.subplots(figsize=figsize)\n",
    "    \n",
    "    \n",
    "    if xlabel is None:\n",
    "        xlabel = x\n",
    "    if ylabel is None:\n",
    "        ylabel = y\n",
    "    \n",
    "    if plot_type == \"scatter\":\n",
    "        sns.scatterplot(data=data, x=x, y=y, hue=hue, style=style, size=size, \n",
    "                        palette=palette, alpha=alpha, ax=ax, legend=legend, **kwargs)\n",
    "    \n",
    "        \n",
    "    elif plot_type in [\"dist\", \"distplot\"]:\n",
    "        data_array = data[x] if isinstance(data, pd.DataFrame) and x in data.columns else x\n",
    "        \n",
    "        if 'transform' in kwargs:\n",
    "            transform_func = kwargs.pop('transform')\n",
    "            data_array = transform_func(data_array)\n",
    "            \n",
    "        sns.distplot(data_array, ax=ax, **kwargs)\n",
    "    \n",
    "    else:\n",
    "        raise ValueError(f\"Plot type '{plot_type}' not recognized\")\n",
    "    \n",
    "    if title:\n",
    "        ax.set_title(title, fontsize=16)\n",
    "    ax.set_xlabel(xlabel, fontsize=12)\n",
    "    ax.set_ylabel(ylabel, fontsize=12)\n",
    "\n",
    "    if xlim:\n",
    "        ax.set_xlim(xlim)\n",
    "    if ylim:\n",
    "        ax.set_ylim(ylim)\n",
    "    \n",
    "    if plain_format:\n",
    "        ax.ticklabel_format(style='plain', axis='y')\n",
    "        ax.ticklabel_format(style='plain', axis='x')\n",
    "    \n",
    "    if grid:\n",
    "        ax.grid(True, alpha=0.3)\n",
    "    \n",
    "    return ax"
   ],
   "outputs": [],
   "execution_count": null
  },
  {
   "cell_type": "markdown",
   "metadata": {},
   "source": [
    "### 3.1 Distribution of Revenue\n",
    "\n",
    "Let's first look at the distribution of movie revenues."
   ]
  },
  {
   "cell_type": "code",
   "metadata": {},
   "source": [
    "plot_data(\n",
    "    data=df_clean,\n",
    "    x='revenue_adj',\n",
    "    y=None,\n",
    "    plot_type='distplot',\n",
    "    title='Distribution of Adjusted Revenue',\n",
    "    xlabel='Adjusted Revenue (USD)',\n",
    "    ylabel='Frequency',\n",
    "    bins=50,\n",
    "    kde=True,\n",
    "    plain_format=True\n",
    ")\n",
    "plt.show()\n",
    "\n",
    "plot_data(\n",
    "    data=pd.DataFrame({'log_revenue': np.log10(df_clean['revenue_adj'])}),\n",
    "    x='log_revenue',\n",
    "    y=None, \n",
    "    plot_type='dist', \n",
    "    title='Distribution of Log-Transformed Adjusted Revenue',\n",
    "    xlabel='Log10(Adjusted Revenue)',\n",
    "    ylabel='Frequency',\n",
    "    kde=True,\n",
    "    bins=50 \n",
    ")\n",
    "plt.show()"
   ],
   "outputs": [],
   "execution_count": null
  },
  {
   "cell_type": "markdown",
   "metadata": {},
   "source": [
    "### 3.2 Correlation Analysis\n",
    "\n",
    "Let's examine correlations between key numerical variables."
   ]
  },
  {
   "cell_type": "code",
   "metadata": {},
   "source": [
    "corr_matrix = df_clean[['revenue_adj', 'budget_adj', 'popularity', 'vote_average', 'vote_count', 'runtime']].corr()\n",
    "plt.figure(figsize=(10, 8))\n",
    "sns.heatmap(corr_matrix, annot=True, cmap='coolwarm', fmt='.2f', linewidths=0.5)\n",
    "plt.title('Correlation Matrix of Key Variables', fontsize=16)\n",
    "plt.xticks(rotation=45)\n",
    "plt.yticks(rotation=0)\n",
    "plt.show()"
   ],
   "outputs": [],
   "execution_count": null
  },
  {
   "cell_type": "markdown",
   "metadata": {},
   "source": [
    "### 3.3 Revenue vs. Budget Relationship\n",
    "\n",
    "One of our key research questions is the relationship between budget and revenue."
   ]
  },
  {
   "cell_type": "code",
   "metadata": {},
   "source": [
    "ax = plot_data(\n",
    "    data=df_clean,\n",
    "    x='budget_adj',\n",
    "    y='revenue_adj',\n",
    "    plot_type='scatter',\n",
    "    title='Adjusted Revenue vs. Adjusted Budget',\n",
    "    xlabel='Adjusted Budget (USD)',\n",
    "    ylabel='Adjusted Revenue (USD)',\n",
    "    alpha=0.6,\n",
    "    plain_format=True\n",
    ")\n",
    "\n",
    "max_val = max(df_clean['budget_adj'].max(), df_clean['revenue_adj'].max())\n",
    "ax.plot([0, max_val], [0, max_val], 'r--', alpha=0.7, label='Break-even line')\n",
    "\n",
    "ax.legend()\n",
    "plt.show()"
   ],
   "outputs": [],
   "execution_count": null
  },
  {
   "cell_type": "markdown",
   "metadata": {},
   "source": [
    "### 3.4 Revenue by Genre\n",
    "\n",
    "Which genres tend to generate the highest revenues?"
   ]
  },
  {
   "cell_type": "code",
   "metadata": {},
   "source": [
    "#Revenue by genre\n",
    "genre_revenue = df_exploded.groupby('genres')['revenue_adj'].median().sort_values(ascending=False)[:10]\n",
    "plt.figure(figsize=(12, 6))\n",
    "sns.barplot(x=genre_revenue.values, y=genre_revenue.index, palette='viridis')\n",
    "plt.title('Median Adjusted Revenue by Genre (Top 10)', fontsize=16)\n",
    "plt.xlabel('Adjusted Revenue (USD)', fontsize=12)\n",
    "plt.ylabel('Genre', fontsize=12)\n",
    "plt.ticklabel_format(style='plain', axis='x')\n",
    "plt.show()\n",
    "\n",
    "plt.figure(figsize=(12, 6))\n",
    "genre_counts = df_exploded['genres'].value_counts().sort_values(ascending=False)[:15]\n",
    "sns.barplot(x=genre_counts.values, y=genre_counts.index, palette='muted')\n",
    "plt.title('Number of Movies by Genre (Top 15)', fontsize=16)\n",
    "plt.xlabel('Count', fontsize=12)\n",
    "plt.ylabel('Genre', fontsize=12)\n",
    "plt.show()"
   ],
   "outputs": [],
   "execution_count": null
  },
  {
   "cell_type": "markdown",
   "metadata": {},
   "source": [
    "### 3.5 Revenue Trends Over Time\n",
    "\n",
    "Let's analyze how movie revenues have changed over time."
   ]
  },
  {
   "cell_type": "code",
   "metadata": {},
   "source": [
    "yearly_revenue = df_clean.groupby('release_year')['revenue_adj'].median()\n",
    "plt.figure(figsize=(14, 6))\n",
    "sns.lineplot(data=yearly_revenue, marker='o')\n",
    "plt.title('Median Adjusted Revenue Over Time', fontsize=16)\n",
    "plt.xlabel('Release Year', fontsize=12)\n",
    "plt.ylabel('Adjusted Revenue (USD)', fontsize=12)\n",
    "plt.ticklabel_format(style='plain', axis='y')\n",
    "plt.xticks(rotation=45)\n",
    "plt.grid(True, linestyle='--', alpha=0.7)\n",
    "plt.show()\n",
    "\n",
    "yearly_budget = df_clean.groupby('release_year')['budget_adj'].median()\n",
    "plt.figure(figsize=(14, 6))\n",
    "\n",
    "plt.plot(yearly_revenue.index, yearly_revenue.values, 'b-', marker='o', label='Revenue')\n",
    "plt.plot(yearly_budget.index, yearly_budget.values, 'g-', marker='s', label='Budget')\n",
    "\n",
    "plt.title('Median Adjusted Revenue and Budget Over Time', fontsize=16)\n",
    "plt.xlabel('Release Year', fontsize=12)\n",
    "plt.ylabel('USD (Adjusted)', fontsize=12)\n",
    "plt.ticklabel_format(style='plain', axis='y')\n",
    "plt.xticks(rotation=45)\n",
    "plt.legend()\n",
    "plt.grid(True, linestyle='--', alpha=0.7)\n",
    "plt.show()"
   ],
   "outputs": [],
   "execution_count": null
  },
  {
   "cell_type": "markdown",
   "metadata": {},
   "source": [
    "### 3.6 Popularity and Revenue\n",
    "\n",
    "How does popularity relate to revenue?"
   ]
  },
  {
   "cell_type": "code",
   "metadata": {},
   "source": [
    "plt.figure(figsize=(12, 6))\n",
    "sns.scatterplot(data=df_clean, x='popularity', y='revenue_adj', alpha=0.6)\n",
    "plt.title('Adjusted Revenue vs. Popularity', fontsize=16)\n",
    "plt.xlabel('Popularity Score', fontsize=12)\n",
    "plt.ylabel('Adjusted Revenue (USD)', fontsize=12)\n",
    "plt.ticklabel_format(style='plain', axis='y')\n",
    "plt.show()"
   ],
   "outputs": [],
   "execution_count": null
  },
  {
   "cell_type": "markdown",
   "metadata": {},
   "source": [
    "## 4. Statistical Analysis\n",
    "\n",
    "Now we'll perform more rigorous statistical analysis to quantify the relationships we've observed."
   ]
  },
  {
   "cell_type": "code",
   "metadata": {},
   "source": [
    "from scipy.stats import pearsonr\n",
    "\n",
    "#budget and revenue\n",
    "corr, p_value = pearsonr(df_clean['budget_adj'], df_clean['revenue_adj'])\n",
    "print(f\"Pearson Correlation (Budget vs. Revenue): {corr:.2f}, p-value: {p_value:.4f}\")\n",
    "\n",
    "#popularity and revenue\n",
    "pop_corr, pop_p = pearsonr(df_clean['popularity'], df_clean['revenue_adj'])\n",
    "print(f\"Pearson Correlation (Popularity vs. Revenue): {pop_corr:.2f}, p-value: {pop_p:.4f}\")\n",
    "\n",
    "#budget vs. revenue\n",
    "sns.lmplot(data=df_clean, x='budget_adj', y='revenue_adj', height=6, aspect=2, scatter_kws={'alpha':0.5})\n",
    "plt.title('Regression Plot: Budget vs. Revenue', fontsize=16)\n",
    "plt.xlabel('Adjusted Budget (USD)', fontsize=12)\n",
    "plt.ylabel('Adjusted Revenue (USD)', fontsize=12)\n",
    "plt.ticklabel_format(style='plain', axis='both')\n",
    "plt.show()"
   ],
   "outputs": [],
   "execution_count": null
  },
  {
   "cell_type": "markdown",
   "metadata": {},
   "source": [
    "## 5. Conclusions and Limitations\n",
    "\n",
    "Based on our analysis, we can draw several conclusions about the factors associated with movie revenue."
   ]
  },
  {
   "cell_type": "markdown",
   "metadata": {},
   "source": [
    "### Key Findings:\n",
    "\n",
    "1. **Budget and Revenue**: Strong positive correlation (r = 0.57, p = 0.0000). Higher budgets are associated with higher revenues, though the relationship is not perfectly linear.\n",
    "\n",
    "2. **Popularity**: Moderately correlated with revenue (r = 0.55), indicating popular movies tend to earn more. This suggests that marketing and public reception are important factors.\n",
    "\n",
    "3. **Temporal Trend**: Median revenue has increased significantly since the 1980s, with particularly strong growth in the 2000s. Budget growth has followed a similar pattern, suggesting increasing production costs over time.\n",
    "\n",
    "### Limitations:\n",
    "\n",
    "- **Causality**: Correlation does not imply causation. High budgets may reflect studio confidence in a movie's potential rather than directly causing high revenue.\n",
    "\n",
    "- **Data Scope**: Our analysis does not account for marketing expenditure, which can significantly impact a movie's commercial success. It also doesn't incorporate factors like director reputation, star power, or external market conditions.\n",
    "\n",
    "- **Inflation Adjustment**: While `revenue_adj` and `budget_adj` are provided, their accuracy depends on the adjustment methodology used in the dataset creation.\n",
    "\n",
    "- **Selection Bias**: Our analysis focuses only on movies with complete data and positive budget/revenue values, which may exclude certain types of films.\n",
    "\n",
    "### Future Work:\n",
    "\n",
    "- Investigate the impact of production companies and directors on movie revenue.\n",
    "- Analyze seasonal trends (e.g., summer vs. winter releases) to identify optimal release timing.\n",
    "- Build predictive models to forecast movie revenue based on pre-release characteristics.\n",
    "- Include marketing budget data to get a more complete picture of movie economics.\n",
    "- Explore audience demographics and their relationship to movie performance.\n"
   ]
  }
 ],
 "metadata": {
  "kernelspec": {
   "display_name": "Python 3",
   "language": "python",
   "name": "python3"
  },
  "language_info": {
   "codemirror_mode": {
    "name": "ipython",
    "version": 3
   },
   "file_extension": ".py",
   "mimetype": "text/x-python",
   "name": "python",
   "nbconvert_exporter": "python",
   "pygments_lexer": "ipython3",
   "version": "3.9.13"
  }
 },
 "nbformat": 4,
 "nbformat_minor": 4
}
